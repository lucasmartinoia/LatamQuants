{
 "cells": [
  {
   "cell_type": "code",
   "execution_count": 9,
   "id": "8134fa26",
   "metadata": {},
   "outputs": [
    {
     "name": "stdout",
     "output_type": "stream",
     "text": [
      "./smart_trader_output//trades_20240224_172829_backtest_EURUSD_returns.json\n",
      "[*********************100%%**********************]  1 of 1 completed\n"
     ]
    },
    {
     "name": "stderr",
     "output_type": "stream",
     "text": [
      "C:\\ProgramData\\Anaconda3\\lib\\site-packages\\seaborn\\categorical.py:82: FutureWarning: iteritems is deprecated and will be removed in a future version. Use .items instead.\n",
      "  plot_data = [np.asarray(s, float) for k, s in iter_data]\n"
     ]
    }
   ],
   "source": [
    "#%matplotlib inline\n",
    "import quantstats as qs\n",
    "import pandas as pd\n",
    "import json\n",
    "import os\n",
    "\n",
    "def get_most_recent_file(folder_path, specific_string):\n",
    "    matching_files = []\n",
    "    \n",
    "    # List all files in the folder\n",
    "    files = os.listdir(folder_path)\n",
    "    \n",
    "    # Filter files that contain the specific string\n",
    "    for file in files:\n",
    "        if file.endswith(specific_string):\n",
    "            matching_files.append(file)\n",
    "    \n",
    "    # If no matching files were found, return None\n",
    "    if not matching_files:\n",
    "        return None\n",
    "    \n",
    "    # Get the most recently modified file\n",
    "    most_recent_file = max(matching_files, key=lambda f: os.path.getmtime(os.path.join(folder_path, f)))\n",
    "    \n",
    "    return most_recent_file\n",
    "\n",
    "# Specify the folder path and the specific string\n",
    "folder_path = './output/'\n",
    "specific_string = 'returns.json'\n",
    "\n",
    "# Get the most recently modified file name containing the specific string\n",
    "most_recent_file = get_most_recent_file(folder_path, specific_string)\n",
    "\n",
    "# extend pandas functionality with metrics, etc.\n",
    "qs.extend_pandas()\n",
    "\n",
    "#print(type(returns))\n",
    "#stock = read_json_to_series('trades_20230911_134411_backtest_EURUSD_returns.json')\n",
    "file_name =f'{folder_path}/{most_recent_file}'\n",
    "print(file_name)\n",
    "\n",
    "# Read JSON data from the file\n",
    "with open(file_name, 'r') as file:\n",
    "    json_data = file.read()\n",
    "\n",
    "# Parse the JSON data\n",
    "data_dict = json.loads(json_data)\n",
    "\n",
    "# Convert keys (timestamps) to datetime objects\n",
    "datetime_index = pd.to_datetime(list(data_dict.keys()), unit='ms', utc=False)\n",
    "\n",
    "# Convert values to float and create a Pandas Series\n",
    "data_series = pd.Series(list(data_dict.values()), index=datetime_index, name=\"Date\", dtype='float64')\n",
    "returns = data_series\n",
    "\n",
    "# Generate reports\n",
    "qs.reports.html(returns, \"SPY\", output=f'{folder_path}/{most_recent_file}_report.html')\n",
    "#qs.reports.full(returns, \"SPY\")"
   ]
  },
  {
   "cell_type": "code",
   "execution_count": null,
   "id": "75cff41f",
   "metadata": {},
   "outputs": [],
   "source": []
  },
  {
   "cell_type": "code",
   "execution_count": null,
   "id": "0c228c32",
   "metadata": {},
   "outputs": [],
   "source": []
  }
 ],
 "metadata": {
  "kernelspec": {
   "display_name": "Python 3",
   "language": "python",
   "name": "python3"
  },
  "language_info": {
   "codemirror_mode": {
    "name": "ipython",
    "version": 3
   },
   "file_extension": ".py",
   "mimetype": "text/x-python",
   "name": "python",
   "nbconvert_exporter": "python",
   "pygments_lexer": "ipython3",
   "version": "3.8.8"
  }
 },
 "nbformat": 4,
 "nbformat_minor": 5
}
