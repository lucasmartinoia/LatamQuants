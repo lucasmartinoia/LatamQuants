{
 "cells": [
  {
   "cell_type": "code",
   "execution_count": 5,
   "id": "2c8131e0",
   "metadata": {},
   "outputs": [
    {
     "name": "stdout",
     "output_type": "stream",
     "text": [
      "Exchange rate on 2023-08-20 00:00:00: 1 JPY = 0.0063 EUR\n"
     ]
    }
   ],
   "source": [
    "from forex_python.converter import CurrencyRates\n",
    "from datetime import datetime\n",
    "\n",
    "def get_historic_exchange_rate(date, base_currency, quote_currency):\n",
    "    c = CurrencyRates(force_decimal=True)\n",
    "    exchange_rate = c.get_rate(base_currency, quote_currency, date)\n",
    "    return exchange_rate\n",
    "\n",
    "# Example usage\n",
    "date_string = '2023-08-20'\n",
    "date = datetime.strptime(date_string, '%Y-%m-%d')\n",
    "base_currency = 'JPY'\n",
    "quote_currency = 'EUR'\n",
    "\n",
    "exchange_rate = get_historic_exchange_rate(date, base_currency, quote_currency)\n",
    "print(f\"Exchange rate on {date}: 1 {base_currency} = {exchange_rate:.4f} {quote_currency}\")\n"
   ]
  },
  {
   "cell_type": "code",
   "execution_count": 7,
   "id": "33c8ce1f",
   "metadata": {},
   "outputs": [
    {
     "name": "stdout",
     "output_type": "stream",
     "text": [
      "123.58\n"
     ]
    }
   ],
   "source": [
    "# Round a float to 2 decimal places\n",
    "original_float = 123.456789\n",
    "rounded_float = round(original_float*1.001, 2)\n",
    "\n",
    "print(rounded_float)\n"
   ]
  },
  {
   "cell_type": "code",
   "execution_count": null,
   "id": "432e1edf",
   "metadata": {},
   "outputs": [],
   "source": []
  }
 ],
 "metadata": {
  "kernelspec": {
   "display_name": "Python 3",
   "language": "python",
   "name": "python3"
  },
  "language_info": {
   "codemirror_mode": {
    "name": "ipython",
    "version": 3
   },
   "file_extension": ".py",
   "mimetype": "text/x-python",
   "name": "python",
   "nbconvert_exporter": "python",
   "pygments_lexer": "ipython3",
   "version": "3.8.8"
  }
 },
 "nbformat": 4,
 "nbformat_minor": 5
}
