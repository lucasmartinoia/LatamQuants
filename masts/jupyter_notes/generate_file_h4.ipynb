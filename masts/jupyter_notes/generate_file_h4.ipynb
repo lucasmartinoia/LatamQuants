{
 "cells": [
  {
   "cell_type": "code",
   "execution_count": 1,
   "id": "644db7b6",
   "metadata": {},
   "outputs": [],
   "source": [
    "import numpy as np\n",
    "import pandas as pd\n",
    "from datetime import datetime, timedelta\n",
    "import pandas as pd\n",
    "\n",
    "file_name_h1 = '2023.9.3EURUSD-H1-No Session.csv'\n",
    "file_name_h4 = '2023.9.3EURUSD-H4-No Session.csv'\n",
    "\n",
    "# Read the H1 file into a DataFrame\n",
    "df_h1 = pd.read_csv(file_name_h1)\n",
    "\n",
    "# Convert the 'Date' and 'Time' columns to a datetime column\n",
    "df_h1['DateTime'] = pd.to_datetime(df_h1['Date'].astype(str) + ' ' + df_h1['Time'])\n",
    "\n",
    "# Set the 'Datetime' column as the index\n",
    "df_h1.set_index('DateTime', inplace=True)\n"
   ]
  },
  {
   "cell_type": "code",
   "execution_count": 2,
   "id": "5f570796",
   "metadata": {},
   "outputs": [
    {
     "name": "stderr",
     "output_type": "stream",
     "text": [
      "<ipython-input-2-d4f8e0c49b24>:5: FutureWarning: 'base' in .resample() and in Grouper() is deprecated.\n",
      "The new arguments that you should use are 'offset' or 'origin'.\n",
      "\n",
      ">>> df.resample(freq=\"3s\", base=2)\n",
      "\n",
      "becomes:\n",
      "\n",
      ">>> df.resample(freq=\"3s\", offset=\"2s\")\n",
      "\n",
      "  grouped = df_h1.groupby(pd.Grouper(freq='4H', base=starting_hours[0])).agg({\n"
     ]
    }
   ],
   "source": [
    "\n",
    "# Define the starting hours for each 4-hour period based on diff_tz\n",
    "starting_hours = [0, 4, 8, 12, 16, 20]\n",
    "\n",
    "# Group the data into 4-hour periods\n",
    "grouped = df_h1.groupby(pd.Grouper(freq='4H', base=starting_hours[0])).agg({\n",
    "    'Date': 'first',\n",
    "    'Time': 'first',\n",
    "    'Open': 'first',\n",
    "    'High': 'max',\n",
    "    'Low': 'min',\n",
    "    'Close': 'last',\n",
    "    'Volume': 'sum'\n",
    "}).reset_index()\n",
    "\n",
    "grouped = grouped[grouped['Volume'] != 0]\n",
    "\n",
    "# Add 'Date' and 'Time' columns\n",
    "grouped['Date'] = grouped['DateTime'].dt.strftime('%Y%m%d')  # Format as yyyymmdd\n",
    "grouped['Time'] = grouped['DateTime'].dt.strftime('%H:%M:%S')  # Format as HH:mm:ss\n",
    "\n",
    "# Remove the 'DateTime' column\n",
    "grouped = grouped.drop('DateTime', axis=1)\n",
    "\n",
    "# Write the grouped data to the H4 file\n",
    "grouped.to_csv(file_name_h4, index=False)"
   ]
  },
  {
   "cell_type": "code",
   "execution_count": null,
   "id": "c98a770f",
   "metadata": {},
   "outputs": [],
   "source": []
  }
 ],
 "metadata": {
  "kernelspec": {
   "display_name": "Python 3",
   "language": "python",
   "name": "python3"
  },
  "language_info": {
   "codemirror_mode": {
    "name": "ipython",
    "version": 3
   },
   "file_extension": ".py",
   "mimetype": "text/x-python",
   "name": "python",
   "nbconvert_exporter": "python",
   "pygments_lexer": "ipython3",
   "version": "3.8.8"
  }
 },
 "nbformat": 4,
 "nbformat_minor": 5
}
